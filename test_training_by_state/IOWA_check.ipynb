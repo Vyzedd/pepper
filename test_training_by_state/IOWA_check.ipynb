{
 "cells": [
  {
   "cell_type": "code",
   "execution_count": 1,
   "id": "6a328e56-3236-4f3f-aa05-cdb3c5673966",
   "metadata": {
    "tags": []
   },
   "outputs": [
    {
     "name": "stderr",
     "output_type": "stream",
     "text": [
      "Matplotlib is building the font cache; this may take a moment.\n"
     ]
    }
   ],
   "source": [
    "import os # Handle OS file systems and directory paths\n",
    "import random # Random number\n",
    "import numpy as np # Import NumPy for arrays and such\n",
    "import matplotlib.pyplot as plt # Plotting Tools\n",
    "import numpy.linalg as npl # Linear Algebra Library\n",
    "import time # Time\n",
    "# from google.colab import drive # Read files in from Google Drive\n",
    "import pandas as pd # Import Pandas for data processing\n",
    "import datetime as dt\n",
    "import scipy.io as sio\n",
    "import io\n",
    "from decimal import Decimal # String to double conversion\n",
    "from glob import glob  # 从 glob 模块中导入 glob 函数"
   ]
  },
  {
   "cell_type": "code",
   "execution_count": 2,
   "id": "6d1d895e-98a7-41a3-a869-ea7ce9e13e98",
   "metadata": {
    "tags": []
   },
   "outputs": [],
   "source": [
    "import boto3\n",
    "from botocore.exceptions import NoCredentialsError"
   ]
  },
  {
   "cell_type": "code",
   "execution_count": 8,
   "id": "d49ac6dc-4d91-4e69-91e8-0965b0cd4c13",
   "metadata": {
    "tags": []
   },
   "outputs": [],
   "source": [
    "# Optionally, you can specify the AWS region\n",
    "s3 = boto3.client('s3', region_name='us-east-1')  # Replace 'us-west-2' with your AWS region\n",
    "\n",
    "import pandas as pd\n",
    "# s3_uri = 's3://pepper-dataset/crop_data/crop_IOWA/Iowa_corn_2019.csv'\n",
    "# df = pd.read_csv(s3_uri)\n",
    "\n",
    "#Read files from s3\n",
    "bucket_name = 'pepper-dataset'\n",
    "prefix = 'Temp/processed_with_all_features_ver_2/'"
   ]
  },
  {
   "cell_type": "code",
   "execution_count": 9,
   "id": "c11d19b8-b501-4f42-b86a-da804a7db51f",
   "metadata": {
    "tags": []
   },
   "outputs": [],
   "source": [
    "# List to store all object keys\n",
    "county_files = []\n",
    "\n",
    "# Initial call to list_objects_v2\n",
    "response = s3.list_objects_v2(Bucket=bucket_name, Prefix=prefix)\n",
    "\n",
    "# Process the initial response\n",
    "while True:\n",
    "    # Collect keys from current response\n",
    "    current_keys = [obj['Key'] for obj in response.get('Contents', [])]\n",
    "    county_files.extend(current_keys)\n",
    "\n",
    "    # Check if there are more objects to retrieve\n",
    "    if not response['IsTruncated']:\n",
    "        break  # No more objects to retrieve\n",
    "\n",
    "    # Get ContinuationToken for next paginated call\n",
    "    continuation_token = response['NextContinuationToken']\n",
    "\n",
    "    # Make subsequent call with ContinuationToken\n",
    "    response = s3.list_objects_v2(Bucket=bucket_name, Prefix=prefix, ContinuationToken=continuation_token)\n",
    "    \n",
    "    \n",
    "county_files = [\"/\" + path if not path.startswith(\"/\") else path for path in county_files]"
   ]
  },
  {
   "cell_type": "code",
   "execution_count": 10,
   "id": "bc996f0e-5581-4cdc-bb8a-89ad37901b3e",
   "metadata": {
    "tags": []
   },
   "outputs": [
    {
     "data": {
      "text/plain": [
       "11407"
      ]
     },
     "execution_count": 10,
     "metadata": {},
     "output_type": "execute_result"
    }
   ],
   "source": [
    "len(county_files)"
   ]
  },
  {
   "cell_type": "code",
   "execution_count": 15,
   "id": "1c10ae6a-c6b1-49c8-a4d1-9f412cf0b7ad",
   "metadata": {
    "tags": []
   },
   "outputs": [
    {
     "name": "stdout",
     "output_type": "stream",
     "text": [
      "10399\n"
     ]
    }
   ],
   "source": [
    "# try 1 county\n",
    "year_range = [2002, 2022]\n",
    "years = [x for x in range(year_range[0], year_range[-1]+1)]\n",
    "\n",
    "filtered_files = [file_path for file_path in county_files\n",
    "                  if any(str(year) in file_path for year in years)]\n",
    "\n",
    "\n",
    "print(len(filtered_files))\n",
    "\n",
    "\n",
    "filtered_files[:50]\n",
    "\n",
    "\n",
    "df = pd.read_csv('s3://'+bucket_name+filtered_files[0])"
   ]
  },
  {
   "cell_type": "code",
   "execution_count": 26,
   "id": "c30d0d2a-28ea-4798-a037-5a6f9aaa414d",
   "metadata": {
    "tags": []
   },
   "outputs": [
    {
     "name": "stdout",
     "output_type": "stream",
     "text": [
      "exported to check_iowa.csv\n"
     ]
    }
   ],
   "source": [
    "import pandas as pd\n",
    "\n",
    "summary_list = []\n",
    "\n",
    "# 要忽略的列\n",
    "skip_columns = ['sshf', 'evavt']\n",
    "\n",
    "for i in range(len(filtered_files)):\n",
    "    file_path = 's3://' + bucket_name + filtered_files[i]\n",
    "    df = pd.read_csv(file_path)\n",
    "\n",
    "    file_summary = {'file': filtered_files[i]}\n",
    "\n",
    "    for column in df.columns:\n",
    "        if column in skip_columns:\n",
    "            continue\n",
    "        if pd.api.types.is_numeric_dtype(df[column]):\n",
    "            min_val = df[column].min()\n",
    "            max_val = df[column].max()\n",
    "            file_summary[f\"{column}_min\"] = min_val\n",
    "            file_summary[f\"{column}_max\"] = max_val\n",
    "        # 非数值列可选跳过或记录\n",
    "    summary_list.append(file_summary)\n",
    "\n",
    "summary_df = pd.DataFrame(summary_list)\n",
    "\n",
    "\n",
    "summary_df.to_csv('s3://'+ bucket_name+ '/check_iowa.csv', index=False)\n",
    "\n",
    "print(\"exported to check_iowa.csv\")\n"
   ]
  },
  {
   "cell_type": "code",
   "execution_count": null,
   "id": "42901db7-118d-4094-8a62-8641601abad6",
   "metadata": {},
   "outputs": [],
   "source": []
  },
  {
   "cell_type": "code",
   "execution_count": null,
   "id": "cf674569-9cee-4c84-9636-1ffefcf61080",
   "metadata": {},
   "outputs": [],
   "source": []
  }
 ],
 "metadata": {
  "kernelspec": {
   "display_name": "conda_python3",
   "language": "python",
   "name": "conda_python3"
  },
  "language_info": {
   "codemirror_mode": {
    "name": "ipython",
    "version": 3
   },
   "file_extension": ".py",
   "mimetype": "text/x-python",
   "name": "python",
   "nbconvert_exporter": "python",
   "pygments_lexer": "ipython3",
   "version": "3.10.16"
  }
 },
 "nbformat": 4,
 "nbformat_minor": 5
}
