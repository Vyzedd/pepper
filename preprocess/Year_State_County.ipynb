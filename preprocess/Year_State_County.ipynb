{
 "cells": [
  {
   "cell_type": "code",
   "execution_count": 1,
   "id": "8661f74b-dc3f-45b9-9263-5b29dab41a34",
   "metadata": {},
   "outputs": [
    {
     "name": "stdout",
     "output_type": "stream",
     "text": [
      "Listing all CSV files in S3...\n"
     ]
    }
   ],
   "source": [
    "import boto3\n",
    "import pandas as pd\n",
    "import io\n",
    "import re\n",
    "import os\n",
    "from collections import defaultdict\n",
    "from tqdm import tqdm\n",
    "\n",
    "# AWS S3 Configuration\n",
    "bucket_name = 'pepper-dataset'\n",
    "source_prefix = 'county-env-data/county_env_NetCDF4/'\n",
    "target_prefix = 'Temp/'\n",
    "\n",
    "s3 = boto3.client('s3')\n",
    "\n",
    "# Step 1: List all CSV files under the source prefix\n",
    "print(\"Listing all CSV files in S3...\")\n",
    "paginator = s3.get_paginator('list_objects_v2')\n",
    "page_iterator = paginator.paginate(Bucket=bucket_name, Prefix=source_prefix)\n",
    "files = []\n",
    "for page in page_iterator:\n",
    "    files += [content['Key'] for content in page.get('Contents', []) if content['Key'].endswith('.csv')]"
   ]
  },
  {
   "cell_type": "code",
   "execution_count": 14,
   "id": "5b120707-5208-4bdf-88b2-a1583b2912b3",
   "metadata": {},
   "outputs": [],
   "source": [
    "# Step 2: Organize files by state and year\n",
    "organized = defaultdict(lambda: defaultdict(list))\n",
    "\n",
    "for file_key in files:\n",
    "    # Example key: county-env-data/county_env_NetCDF4/Arkansas_Jackson/Arkansas_Jackson_2014-08_part1.csv\n",
    "    try:\n",
    "        filename = os.path.basename(file_key)  # e.g., Arkansas_Jackson_2014-08_part1.csv\n",
    "        parts = filename.split('_')\n",
    "        if len(parts) < 3:\n",
    "            continue\n",
    "        state_county = f\"{parts[0]}_{parts[1]}\"  # Arkansas_Jackson\n",
    "        year_month = parts[2]  # 2014-08\n",
    "        year = year_month.split('-')[0]\n",
    "        state = parts[0]  # Arkansas\n",
    "\n",
    "        organized[state][year].append(file_key)\n",
    "\n",
    "    except Exception as e:\n",
    "        print(f\"[WARN] Skipping unrecognized key: {file_key}, error: {e}\")\n",
    "        continue"
   ]
  },
  {
   "cell_type": "code",
   "execution_count": null,
   "id": "01338044-fbe5-4143-82d1-aafcea7b87ce",
   "metadata": {},
   "outputs": [
    {
     "name": "stderr",
     "output_type": "stream",
     "text": [
      "Processing states:   0%|          | 0/6 [00:00<?, ?it/s]\n",
      "Processing Arkansas 2023:   0%|          | 0/24 [00:00<?, ?it/s]\u001b[A\n",
      "Processing Arkansas 2023:   4%|▍         | 1/24 [00:15<05:57, 15.53s/it]\u001b[A"
     ]
    },
    {
     "name": "stdout",
     "output_type": "stream",
     "text": [
      "[UPLOAD ✅] s3://pepper-dataset/Temp/Arkansas_counties_2000.csv (35136 rows)\n"
     ]
    },
    {
     "name": "stderr",
     "output_type": "stream",
     "text": [
      "\n",
      "Processing Arkansas 2023:   8%|▊         | 2/24 [00:31<05:44, 15.68s/it]\u001b[A"
     ]
    },
    {
     "name": "stdout",
     "output_type": "stream",
     "text": [
      "[UPLOAD ✅] s3://pepper-dataset/Temp/Arkansas_counties_2001.csv (35040 rows)\n"
     ]
    },
    {
     "name": "stderr",
     "output_type": "stream",
     "text": [
      "\n",
      "Processing Arkansas 2023:  12%|█▎        | 3/24 [00:47<05:34, 15.94s/it]\u001b[A"
     ]
    },
    {
     "name": "stdout",
     "output_type": "stream",
     "text": [
      "[UPLOAD ✅] s3://pepper-dataset/Temp/Arkansas_counties_2002.csv (35040 rows)\n"
     ]
    },
    {
     "name": "stderr",
     "output_type": "stream",
     "text": [
      "\n",
      "Processing Arkansas 2023:  17%|█▋        | 4/24 [01:03<05:20, 16.01s/it]\u001b[A"
     ]
    },
    {
     "name": "stdout",
     "output_type": "stream",
     "text": [
      "[UPLOAD ✅] s3://pepper-dataset/Temp/Arkansas_counties_2003.csv (35040 rows)\n"
     ]
    },
    {
     "name": "stderr",
     "output_type": "stream",
     "text": [
      "\n",
      "Processing Arkansas 2023:  21%|██        | 5/24 [01:19<05:03, 15.99s/it]\u001b[A"
     ]
    },
    {
     "name": "stdout",
     "output_type": "stream",
     "text": [
      "[UPLOAD ✅] s3://pepper-dataset/Temp/Arkansas_counties_2004.csv (35136 rows)\n"
     ]
    },
    {
     "name": "stderr",
     "output_type": "stream",
     "text": [
      "\n",
      "Processing Arkansas 2023:  25%|██▌       | 6/24 [01:35<04:45, 15.88s/it]\u001b[A"
     ]
    },
    {
     "name": "stdout",
     "output_type": "stream",
     "text": [
      "[UPLOAD ✅] s3://pepper-dataset/Temp/Arkansas_counties_2005.csv (35040 rows)\n"
     ]
    },
    {
     "name": "stderr",
     "output_type": "stream",
     "text": [
      "\n",
      "Processing Arkansas 2023:  29%|██▉       | 7/24 [01:50<04:27, 15.74s/it]\u001b[A"
     ]
    },
    {
     "name": "stdout",
     "output_type": "stream",
     "text": [
      "[UPLOAD ✅] s3://pepper-dataset/Temp/Arkansas_counties_2006.csv (35040 rows)\n"
     ]
    },
    {
     "name": "stderr",
     "output_type": "stream",
     "text": [
      "\n",
      "Processing Arkansas 2023:  33%|███▎      | 8/24 [02:06<04:13, 15.83s/it]\u001b[A"
     ]
    },
    {
     "name": "stdout",
     "output_type": "stream",
     "text": [
      "[UPLOAD ✅] s3://pepper-dataset/Temp/Arkansas_counties_2007.csv (35040 rows)\n"
     ]
    },
    {
     "name": "stderr",
     "output_type": "stream",
     "text": [
      "\n",
      "Processing Arkansas 2023:  38%|███▊      | 9/24 [02:22<03:55, 15.73s/it]\u001b[A"
     ]
    },
    {
     "name": "stdout",
     "output_type": "stream",
     "text": [
      "[UPLOAD ✅] s3://pepper-dataset/Temp/Arkansas_counties_2008.csv (35136 rows)\n"
     ]
    },
    {
     "name": "stderr",
     "output_type": "stream",
     "text": [
      "\n",
      "Processing Arkansas 2023:  42%|████▏     | 10/24 [02:38<03:41, 15.82s/it]\u001b[A"
     ]
    },
    {
     "name": "stdout",
     "output_type": "stream",
     "text": [
      "[UPLOAD ✅] s3://pepper-dataset/Temp/Arkansas_counties_2009.csv (35040 rows)\n"
     ]
    },
    {
     "name": "stderr",
     "output_type": "stream",
     "text": [
      "\n",
      "Processing Arkansas 2023:  46%|████▌     | 11/24 [02:54<03:25, 15.78s/it]\u001b[A"
     ]
    },
    {
     "name": "stdout",
     "output_type": "stream",
     "text": [
      "[UPLOAD ✅] s3://pepper-dataset/Temp/Arkansas_counties_2010.csv (35040 rows)\n"
     ]
    },
    {
     "name": "stderr",
     "output_type": "stream",
     "text": [
      "\n",
      "Processing Arkansas 2023:  50%|█████     | 12/24 [03:09<03:10, 15.84s/it]\u001b[A"
     ]
    },
    {
     "name": "stdout",
     "output_type": "stream",
     "text": [
      "[UPLOAD ✅] s3://pepper-dataset/Temp/Arkansas_counties_2011.csv (35040 rows)\n"
     ]
    },
    {
     "name": "stderr",
     "output_type": "stream",
     "text": [
      "\n",
      "Processing Arkansas 2023:  54%|█████▍    | 13/24 [03:25<02:53, 15.76s/it]\u001b[A"
     ]
    },
    {
     "name": "stdout",
     "output_type": "stream",
     "text": [
      "[UPLOAD ✅] s3://pepper-dataset/Temp/Arkansas_counties_2012.csv (35136 rows)\n"
     ]
    },
    {
     "name": "stderr",
     "output_type": "stream",
     "text": [
      "\n",
      "Processing Arkansas 2023:  58%|█████▊    | 14/24 [03:40<02:36, 15.65s/it]\u001b[A"
     ]
    },
    {
     "name": "stdout",
     "output_type": "stream",
     "text": [
      "[UPLOAD ✅] s3://pepper-dataset/Temp/Arkansas_counties_2013.csv (35040 rows)\n"
     ]
    },
    {
     "name": "stderr",
     "output_type": "stream",
     "text": [
      "\n",
      "Processing Arkansas 2023:  62%|██████▎   | 15/24 [03:56<02:21, 15.72s/it]\u001b[A"
     ]
    },
    {
     "name": "stdout",
     "output_type": "stream",
     "text": [
      "[UPLOAD ✅] s3://pepper-dataset/Temp/Arkansas_counties_2014.csv (35040 rows)\n"
     ]
    },
    {
     "name": "stderr",
     "output_type": "stream",
     "text": [
      "\n",
      "Processing Arkansas 2023:  67%|██████▋   | 16/24 [04:12<02:05, 15.72s/it]\u001b[A"
     ]
    },
    {
     "name": "stdout",
     "output_type": "stream",
     "text": [
      "[UPLOAD ✅] s3://pepper-dataset/Temp/Arkansas_counties_2015.csv (35040 rows)\n"
     ]
    },
    {
     "name": "stderr",
     "output_type": "stream",
     "text": [
      "\n",
      "Processing Arkansas 2023:  71%|███████   | 17/24 [04:28<01:50, 15.80s/it]\u001b[A"
     ]
    },
    {
     "name": "stdout",
     "output_type": "stream",
     "text": [
      "[UPLOAD ✅] s3://pepper-dataset/Temp/Arkansas_counties_2016.csv (35136 rows)\n"
     ]
    },
    {
     "name": "stderr",
     "output_type": "stream",
     "text": [
      "\n",
      "Processing Arkansas 2023:  75%|███████▌  | 18/24 [04:44<01:35, 15.87s/it]\u001b[A"
     ]
    },
    {
     "name": "stdout",
     "output_type": "stream",
     "text": [
      "[UPLOAD ✅] s3://pepper-dataset/Temp/Arkansas_counties_2017.csv (35040 rows)\n"
     ]
    },
    {
     "name": "stderr",
     "output_type": "stream",
     "text": [
      "\n",
      "Processing Arkansas 2023:  79%|███████▉  | 19/24 [05:00<01:19, 15.83s/it]\u001b[A"
     ]
    },
    {
     "name": "stdout",
     "output_type": "stream",
     "text": [
      "[UPLOAD ✅] s3://pepper-dataset/Temp/Arkansas_counties_2018.csv (35040 rows)\n"
     ]
    },
    {
     "name": "stderr",
     "output_type": "stream",
     "text": [
      "\n",
      "Processing Arkansas 2023:  83%|████████▎ | 20/24 [05:15<01:02, 15.61s/it]\u001b[A"
     ]
    },
    {
     "name": "stdout",
     "output_type": "stream",
     "text": [
      "[UPLOAD ✅] s3://pepper-dataset/Temp/Arkansas_counties_2019.csv (35040 rows)\n"
     ]
    },
    {
     "name": "stderr",
     "output_type": "stream",
     "text": [
      "\n",
      "Processing Arkansas 2023:  88%|████████▊ | 21/24 [05:30<00:46, 15.57s/it]\u001b[A"
     ]
    },
    {
     "name": "stdout",
     "output_type": "stream",
     "text": [
      "[UPLOAD ✅] s3://pepper-dataset/Temp/Arkansas_counties_2020.csv (35136 rows)\n"
     ]
    },
    {
     "name": "stderr",
     "output_type": "stream",
     "text": [
      "\n",
      "Processing Arkansas 2023:  92%|█████████▏| 22/24 [05:45<00:30, 15.35s/it]\u001b[A"
     ]
    },
    {
     "name": "stdout",
     "output_type": "stream",
     "text": [
      "[UPLOAD ✅] s3://pepper-dataset/Temp/Arkansas_counties_2021.csv (35040 rows)\n"
     ]
    },
    {
     "name": "stderr",
     "output_type": "stream",
     "text": [
      "\n",
      "Processing Arkansas 2023:  96%|█████████▌| 23/24 [06:01<00:15, 15.58s/it]\u001b[A"
     ]
    },
    {
     "name": "stdout",
     "output_type": "stream",
     "text": [
      "[UPLOAD ✅] s3://pepper-dataset/Temp/Arkansas_counties_2022.csv (35040 rows)\n"
     ]
    },
    {
     "name": "stderr",
     "output_type": "stream",
     "text": [
      "\n",
      "Processing Arkansas 2023: 100%|██████████| 24/24 [06:17<00:00, 15.57s/it]\u001b[A\n",
      "Processing states:  17%|█▋        | 1/6 [06:17<31:28, 377.67s/it]        \u001b[A"
     ]
    },
    {
     "name": "stdout",
     "output_type": "stream",
     "text": [
      "[UPLOAD ✅] s3://pepper-dataset/Temp/Arkansas_counties_2023.csv (35040 rows)\n"
     ]
    },
    {
     "name": "stderr",
     "output_type": "stream",
     "text": [
      "\n",
      "Processing Illinois 2023:   0%|          | 0/24 [00:00<?, ?it/s]\u001b[A\n",
      "Processing Illinois 2023:   4%|▍         | 1/24 [02:31<57:56, 151.16s/it]\u001b[A"
     ]
    },
    {
     "name": "stdout",
     "output_type": "stream",
     "text": [
      "[UPLOAD ✅] s3://pepper-dataset/Temp/Illinois_counties_2000.csv (386496 rows)\n"
     ]
    },
    {
     "name": "stderr",
     "output_type": "stream",
     "text": [
      "\n",
      "Processing Illinois 2023:   8%|▊         | 2/24 [04:59<54:46, 149.41s/it]\u001b[A"
     ]
    },
    {
     "name": "stdout",
     "output_type": "stream",
     "text": [
      "[UPLOAD ✅] s3://pepper-dataset/Temp/Illinois_counties_2001.csv (385440 rows)\n"
     ]
    },
    {
     "name": "stderr",
     "output_type": "stream",
     "text": [
      "\n",
      "Processing Illinois 2023:  12%|█▎        | 3/24 [07:21<51:11, 146.28s/it]\u001b[A"
     ]
    },
    {
     "name": "stdout",
     "output_type": "stream",
     "text": [
      "[UPLOAD ✅] s3://pepper-dataset/Temp/Illinois_counties_2002.csv (385440 rows)\n"
     ]
    },
    {
     "name": "stderr",
     "output_type": "stream",
     "text": [
      "\n",
      "Processing Illinois 2023:  17%|█▋        | 4/24 [09:42<48:02, 144.11s/it]\u001b[A"
     ]
    },
    {
     "name": "stdout",
     "output_type": "stream",
     "text": [
      "[UPLOAD ✅] s3://pepper-dataset/Temp/Illinois_counties_2003.csv (385440 rows)\n"
     ]
    },
    {
     "name": "stderr",
     "output_type": "stream",
     "text": [
      "\n",
      "Processing Illinois 2023:  21%|██        | 5/24 [12:04<45:20, 143.17s/it]\u001b[A"
     ]
    },
    {
     "name": "stdout",
     "output_type": "stream",
     "text": [
      "[UPLOAD ✅] s3://pepper-dataset/Temp/Illinois_counties_2004.csv (386496 rows)\n"
     ]
    },
    {
     "name": "stderr",
     "output_type": "stream",
     "text": [
      "\n",
      "Processing Illinois 2023:  25%|██▌       | 6/24 [14:24<42:37, 142.11s/it]\u001b[A"
     ]
    },
    {
     "name": "stdout",
     "output_type": "stream",
     "text": [
      "[UPLOAD ✅] s3://pepper-dataset/Temp/Illinois_counties_2005.csv (385440 rows)\n"
     ]
    }
   ],
   "source": [
    "# Step 3: Process and upload\n",
    "for state, year_map in tqdm(organized.items(), desc=\"Processing states\"):\n",
    "    for year, file_list in tqdm(year_map.items(), desc=f\"Processing {state} {year}\", leave=False):\n",
    "        monthly_data = defaultdict(dict)\n",
    "\n",
    "        for file_key in file_list:\n",
    "            try:\n",
    "                filename = os.path.basename(file_key)\n",
    "                parts = filename.split('_')\n",
    "                state_county = f\"{parts[0]}_{parts[1]}\"\n",
    "                ym = parts[2]\n",
    "                part = parts[3].split('.')[0]  # e.g., part1\n",
    "\n",
    "                obj = s3.get_object(Bucket=bucket_name, Key=file_key)\n",
    "                df = pd.read_csv(io.BytesIO(obj['Body'].read()))\n",
    "                df['datetime'] = pd.to_datetime(df['datetime'])\n",
    "                monthly_data[(state_county, ym)][part] = df\n",
    "            except Exception as e:\n",
    "                print(f\"[ERROR] Failed to read {file_key}: {e}\")\n",
    "                continue\n",
    "\n",
    "        merged_all = []\n",
    "        for (state_county, ym), parts in monthly_data.items():\n",
    "            try:\n",
    "                if 'part1' in parts and 'part2' in parts:\n",
    "                    merged = pd.merge(parts['part1'], parts['part2'], on='datetime', suffixes=('_part1', '_part2'))\n",
    "                elif 'part1' in parts:\n",
    "                    merged = parts['part1']\n",
    "                elif 'part2' in parts:\n",
    "                    merged = parts['part2']\n",
    "                else:\n",
    "                    continue\n",
    "                merged['county'] = state_county\n",
    "                merged_all.append(merged)\n",
    "            except Exception as e:\n",
    "                print(f\"[ERROR] Failed to merge {state_county} {ym}: {e}\")\n",
    "                continue\n",
    "\n",
    "        if merged_all:\n",
    "            final_df = pd.concat(merged_all, ignore_index=True)\n",
    "            filename = f\"{state}_counties_{year}.csv\"\n",
    "            local_path = f\"/tmp/{filename}\"\n",
    "\n",
    "            try:\n",
    "                final_df.to_csv(local_path, index=False)\n",
    "\n",
    "                # Ensure file is not empty\n",
    "                if not os.path.exists(local_path) or os.path.getsize(local_path) == 0:\n",
    "                    raise Exception(f\"[EMPTY] Local file is missing or empty: {local_path}\")\n",
    "\n",
    "                # Upload to S3\n",
    "                s3.upload_file(local_path, bucket_name, f\"{target_prefix}{filename}\")\n",
    "                print(f\"[UPLOAD ✅] s3://{bucket_name}/{target_prefix}{filename} ({len(final_df)} rows)\")\n",
    "\n",
    "                # Double check upload\n",
    "                resp = s3.list_objects_v2(Bucket=bucket_name, Prefix=f\"{target_prefix}{filename}\")\n",
    "                found = any(obj['Key'] == f\"{target_prefix}{filename}\" for obj in resp.get('Contents', []))\n",
    "                if not found:\n",
    "                    raise Exception(f\"[S3-MISS] File not found in S3 after upload: {filename}\")\n",
    "\n",
    "                # Remove local temp file\n",
    "                os.remove(local_path)\n",
    "\n",
    "            except Exception as e:\n",
    "                print(f\"[ERROR ❌] Upload failed for {filename}: {e}\")"
   ]
  },
  {
   "cell_type": "code",
   "execution_count": 12,
   "id": "9b3342bb-5a3a-4559-a69c-0012a3a3c1ab",
   "metadata": {},
   "outputs": [
    {
     "data": {
      "text/plain": [
       "[]"
      ]
     },
     "execution_count": 12,
     "metadata": {},
     "output_type": "execute_result"
    }
   ],
   "source": [
    "merged_all"
   ]
  }
 ],
 "metadata": {
  "kernelspec": {
   "display_name": "conda_python3",
   "language": "python",
   "name": "conda_python3"
  },
  "language_info": {
   "codemirror_mode": {
    "name": "ipython",
    "version": 3
   },
   "file_extension": ".py",
   "mimetype": "text/x-python",
   "name": "python",
   "nbconvert_exporter": "python",
   "pygments_lexer": "ipython3",
   "version": "3.10.17"
  }
 },
 "nbformat": 4,
 "nbformat_minor": 5
}
