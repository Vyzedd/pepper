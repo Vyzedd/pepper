{
 "cells": [
  {
   "cell_type": "code",
   "execution_count": null,
   "id": "bc194326-47cf-4be6-bac5-3c46f68730f6",
   "metadata": {
    "tags": []
   },
   "outputs": [
    {
     "name": "stdout",
     "output_type": "stream",
     "text": [
      "Collecting package metadata (current_repodata.json): done\n",
      "Solving environment: / \n",
      "The environment is inconsistent, please check the package plan carefully\n",
      "The following packages are causing the inconsistency:\n",
      "\n",
      "  - conda-forge/noarch::autopep8==2.0.4=pyhd8ed1ab_0\n",
      "  - conda-forge/linux-64::black==24.3.0=py310hff52083_0\n",
      "  - conda-forge/noarch::bleach==6.1.0=pyhd8ed1ab_0\n",
      "  - conda-forge/noarch::pytest==8.1.1=pyhd8ed1ab_0\n",
      "  - conda-forge/noarch::qtpy==2.4.1=pyhd8ed1ab_0\n",
      "  - conda-forge/linux-64::sip==6.7.12=py310hc6cd4ac_0\n",
      "  - conda-forge/noarch::flask==3.0.2=pyhd8ed1ab_0\n",
      "  - conda-forge/noarch::importlib_metadata==7.1.0=hd8ed1ab_0\n",
      "  - conda-forge/linux-64::pyqt5-sip==12.12.2=py310hc6cd4ac_5\n",
      "  - conda-forge/noarch::pytoolconfig==1.2.5=pyhd8ed1ab_0\n",
      "  - conda-forge/noarch::qdarkstyle==3.1=pyhd8ed1ab_0\n",
      "  - conda-forge/noarch::qtawesome==1.3.0=pyh9208f05_0\n",
      "  - conda-forge/noarch::yapf==0.40.1=pyhd8ed1ab_0\n",
      "  - conda-forge/noarch::dask-core==2024.3.1=pyhd8ed1ab_0\n",
      "  - conda-forge/noarch::flask-cors==4.0.0=pyhd8ed1ab_0\n",
      "  - conda-forge/noarch::jupyter_client==8.6.1=pyhd8ed1ab_0\n",
      "  - conda-forge/noarch::rope==1.13.0=pyhd8ed1ab_0\n",
      "  - conda-forge/noarch::s3transfer==0.10.1=pyhd8ed1ab_0\n",
      "  - conda-forge/noarch::distributed==2024.3.1=pyhd8ed1ab_0\n",
      "  - conda-forge/noarch::ipykernel==6.29.3=pyhd33586a_0\n",
      "  - conda-forge/noarch::keyring==25.0.0=pyha804496_1\n",
      "  - conda-forge/noarch::python-lsp-server==1.7.4=pyhd8ed1ab_0\n",
      "  - conda-forge/linux-64::bottleneck==1.3.8=py310h1f7b6fc_0\n",
      "  - conda-forge/linux-64::contourpy==1.2.0=py310hd41b1e2_0\n",
      "  - conda-forge/linux-64::h5py==3.10.0=nompi_py310h65828d5_101\n",
      "  - conda-forge/linux-64::imagecodecs==2024.1.1=py310h68afbfc_3\n",
      "  - conda-forge/noarch::imageio==2.34.0=pyh4b66e23_0\n",
      "  - conda-forge/noarch::jupyter_console==6.6.3=pyhd8ed1ab_0\n",
      "  - conda-forge/linux-64::mkl_fft==1.3.8=py310ha3dbc2a_1\n",
      "  - conda-forge/noarch::nbclient==0.10.0=pyhd8ed1ab_0\n",
      "  - conda-forge/linux-64::numba==0.59.1=py310h7dc5dd1_0\n",
      "  - conda-forge/linux-64::numexpr==2.9.0=mkl_py310hc8c826e_0\n",
      "  - conda-forge/noarch::patsy==0.5.6=pyhd8ed1ab_0\n",
      "  - conda-forge/linux-64::pyerfa==2.0.1.1=py310h1f7b6fc_0\n",
      "  - conda-forge/noarch::pyls-spyder==0.4.0=pyhd8ed1ab_0\n",
      "  - conda-forge/linux-64::pyqt==5.15.9=py310h04931ad_5\n",
      "  - conda-forge/noarch::python-lsp-black==2.0.0=pyhd8ed1ab_0\n",
      "  - conda-forge/linux-64::pywavelets==1.4.1=py310h1f7b6fc_1\n",
      "  - conda-forge/noarch::qtconsole-base==5.4.4=pyha770c72_0\n",
      "  - conda-forge/linux-64::scipy==1.12.0=py310hb13e2d6_2\n",
      "  - conda-forge/noarch::spyder-kernels==2.4.4=unix_pyh707e725_0\n",
      "  - conda-forge/linux-64::astropy==6.0.0=py310h1f7b6fc_0\n",
      "  - conda-forge/noarch::bokeh==3.4.0=pyhd8ed1ab_0\n",
      "  - conda-forge/linux-64::matplotlib-base==3.8.3=py310h62c0568_0\n",
      "  - conda-forge/noarch::nbconvert-core==7.16.3=pyhd8ed1ab_0\n",
      "  - conda-forge/linux-64::pyqtwebengine==5.15.9=py310h704022c_5\n",
      "  - conda-forge/linux-64::pytables==3.9.2=py310h374b01c_1\n",
      "  - conda-forge/noarch::qtconsole==5.4.4=pyhd8ed1ab_0\n",
      "  - conda-forge/linux-64::scikit-learn==1.4.1.post1=py310h1fdf081_0\n",
      "  - conda-forge/linux-64::statsmodels==0.14.1=py310h1f7b6fc_0\n",
      "  - conda-forge/noarch::tifffile==2024.2.12=pyhd8ed1ab_0\n",
      "  - conda-forge/noarch::jupyter_server==2.13.0=pyhd8ed1ab_0\n",
      "  - conda-forge/linux-64::matplotlib==3.8.3=py310hff52083_0\n",
      "  - conda-forge/noarch::nbconvert-pandoc==7.16.3=hd8ed1ab_0\n",
      "  - conda-forge/linux-64::scikit-image==0.22.0=py310hcc13569_2\n",
      "  - conda-forge/noarch::seaborn-base==0.13.2=pyhd8ed1ab_0\n",
      "  - conda-forge/linux-64::shap==0.45.0=cpu_py310he117009_0\n",
      "  - conda-forge/noarch::jupyter-lsp==2.2.4=pyhd8ed1ab_0\n",
      "  - conda-forge/noarch::jupyterlab_server==2.25.4=pyhd8ed1ab_0\n",
      "  - conda-forge/noarch::nbconvert==7.16.3=hd8ed1ab_0\n",
      "  - conda-forge/noarch::notebook-shim==0.2.4=pyhd8ed1ab_0\n",
      "  - conda-forge/noarch::seaborn==0.13.2=hd8ed1ab_0\n",
      "  - conda-forge/noarch::jupyterlab==4.1.5=pyhd8ed1ab_0\n",
      "  - conda-forge/linux-64::pyarrow==15.0.2=py310hf9e7431_1_cpu\n",
      "  - conda-forge/noarch::dask-expr==1.0.5=pyhd8ed1ab_0\n",
      "  - conda-forge/noarch::notebook==7.1.2=pyhd8ed1ab_0\n",
      "  - conda-forge/noarch::pyarrow-hotfix==0.6=pyhd8ed1ab_0\n",
      "  - conda-forge/noarch::dask==2024.3.1=pyhd8ed1ab_0\n",
      "  - conda-forge/noarch::jupyter==1.0.0=pyhd8ed1ab_10\n",
      "  - conda-forge/noarch::hdijupyterutils==0.21.0=pyh1a96a4e_0\n",
      "  - conda-forge/noarch::autovizwidget==0.21.0=pyh1a96a4e_0\n",
      "  - conda-forge/noarch::sparkmagic==0.21.0=pyhd8ed1ab_0\n",
      "  - conda-forge/noarch::numpydoc==1.6.0=pyhd8ed1ab_0\n",
      "  - conda-forge/linux-64::spyder==5.4.5=py310hff52083_0\n",
      "  - conda-forge/noarch::sphinxcontrib-applehelp==1.0.8=pyhd8ed1ab_0\n",
      "  - conda-forge/noarch::sphinxcontrib-devhelp==1.0.6=pyhd8ed1ab_0\n",
      "  - conda-forge/noarch::sphinxcontrib-htmlhelp==2.0.5=pyhd8ed1ab_0\n",
      "  - conda-forge/noarch::sphinxcontrib-qthelp==1.0.7=pyhd8ed1ab_0\n",
      "  - conda-forge/noarch::sphinxcontrib-serializinghtml==1.1.10=pyhd8ed1ab_0\n",
      "  - conda-forge/noarch::sphinxcontrib-websupport==1.2.7=pyhd8ed1ab_0\n",
      "  - conda-forge/linux-64::astroid==2.11.6=py310hff52083_0\n",
      "  - conda-forge/noarch::pylint==2.14.4=pyhd8ed1ab_0\n",
      "  - conda-forge/noarch::sphinx==5.1.1=pyhd8ed1ab_1\n",
      "failed with initial frozen solve. Retrying with flexible solve.\n",
      "Solving environment: | "
     ]
    }
   ],
   "source": [
    "!conda install -c conda-forge netCDF4"
   ]
  },
  {
   "cell_type": "code",
   "execution_count": 1,
   "id": "2cde1862-fa44-41ea-b7e9-e30c460f0e59",
   "metadata": {
    "tags": []
   },
   "outputs": [
    {
     "name": "stdout",
     "output_type": "stream",
     "text": [
      "Collecting netCDF4\n",
      "  Using cached netcdf4-1.7.0.tar.gz (772 kB)\n",
      "  Installing build dependencies ... \u001b[?25ldone\n",
      "\u001b[?25h  Getting requirements to build wheel ... \u001b[?25lerror\n",
      "  \u001b[1;31merror\u001b[0m: \u001b[1msubprocess-exited-with-error\u001b[0m\n",
      "  \n",
      "  \u001b[31m×\u001b[0m \u001b[32mGetting requirements to build wheel\u001b[0m did not run successfully.\n",
      "  \u001b[31m│\u001b[0m exit code: \u001b[1;36m1\u001b[0m\n",
      "  \u001b[31m╰─>\u001b[0m \u001b[31m[34 lines of output]\u001b[0m\n",
      "  \u001b[31m   \u001b[0m Package hdf5 was not found in the pkg-config search path.\n",
      "  \u001b[31m   \u001b[0m Perhaps you should add the directory containing `hdf5.pc'\n",
      "  \u001b[31m   \u001b[0m to the PKG_CONFIG_PATH environment variable\n",
      "  \u001b[31m   \u001b[0m No package 'hdf5' found\n",
      "  \u001b[31m   \u001b[0m reading from setup.cfg...\n",
      "  \u001b[31m   \u001b[0m     HDF5_DIR environment variable not set, checking some standard locations ..\n",
      "  \u001b[31m   \u001b[0m checking /home/ec2-user/anaconda3/envs/tensorflow2_p310/include...\n",
      "  \u001b[31m   \u001b[0m HDF5 library version: 1.14.3 headers found in /home/ec2-user/anaconda3/envs/tensorflow2_p310/include\n",
      "  \u001b[31m   \u001b[0m HDF5 library version: 1.14.3 found in /home/ec2-user/anaconda3/envs/tensorflow2_p310\n",
      "  \u001b[31m   \u001b[0m NETCDF4_DIR environment variable not set, checking standard locations..\n",
      "  \u001b[31m   \u001b[0m checking /home/ec2-user/anaconda3/envs/tensorflow2_p310...\n",
      "  \u001b[31m   \u001b[0m checking /home/ec2-user/anaconda3/envs/tensorflow2_p310/Library...\n",
      "  \u001b[31m   \u001b[0m checking /home/ec2-user...\n",
      "  \u001b[31m   \u001b[0m checking /usr/local...\n",
      "  \u001b[31m   \u001b[0m checking /sw...\n",
      "  \u001b[31m   \u001b[0m checking /opt...\n",
      "  \u001b[31m   \u001b[0m checking /opt/local...\n",
      "  \u001b[31m   \u001b[0m checking /opt/homebrew...\n",
      "  \u001b[31m   \u001b[0m checking /usr...\n",
      "  \u001b[31m   \u001b[0m Traceback (most recent call last):\n",
      "  \u001b[31m   \u001b[0m   File \"/home/ec2-user/anaconda3/envs/tensorflow2_p310/lib/python3.10/site-packages/pip/_vendor/pyproject_hooks/_in_process/_in_process.py\", line 353, in <module>\n",
      "  \u001b[31m   \u001b[0m     main()\n",
      "  \u001b[31m   \u001b[0m   File \"/home/ec2-user/anaconda3/envs/tensorflow2_p310/lib/python3.10/site-packages/pip/_vendor/pyproject_hooks/_in_process/_in_process.py\", line 335, in main\n",
      "  \u001b[31m   \u001b[0m     json_out['return_val'] = hook(**hook_input['kwargs'])\n",
      "  \u001b[31m   \u001b[0m   File \"/home/ec2-user/anaconda3/envs/tensorflow2_p310/lib/python3.10/site-packages/pip/_vendor/pyproject_hooks/_in_process/_in_process.py\", line 118, in get_requires_for_build_wheel\n",
      "  \u001b[31m   \u001b[0m     return hook(config_settings)\n",
      "  \u001b[31m   \u001b[0m   File \"/tmp/pip-build-env-w19813xv/overlay/lib/python3.10/site-packages/setuptools/build_meta.py\", line 325, in get_requires_for_build_wheel\n",
      "  \u001b[31m   \u001b[0m     return self._get_build_requires(config_settings, requirements=['wheel'])\n",
      "  \u001b[31m   \u001b[0m   File \"/tmp/pip-build-env-w19813xv/overlay/lib/python3.10/site-packages/setuptools/build_meta.py\", line 295, in _get_build_requires\n",
      "  \u001b[31m   \u001b[0m     self.run_setup()\n",
      "  \u001b[31m   \u001b[0m   File \"/tmp/pip-build-env-w19813xv/overlay/lib/python3.10/site-packages/setuptools/build_meta.py\", line 311, in run_setup\n",
      "  \u001b[31m   \u001b[0m     exec(code, locals())\n",
      "  \u001b[31m   \u001b[0m   File \"<string>\", line 292, in <module>\n",
      "  \u001b[31m   \u001b[0m ValueError: did not find netCDF version 4 headers\n",
      "  \u001b[31m   \u001b[0m \u001b[31m[end of output]\u001b[0m\n",
      "  \n",
      "  \u001b[1;35mnote\u001b[0m: This error originates from a subprocess, and is likely not a problem with pip.\n",
      "\u001b[1;31merror\u001b[0m: \u001b[1msubprocess-exited-with-error\u001b[0m\n",
      "\n",
      "\u001b[31m×\u001b[0m \u001b[32mGetting requirements to build wheel\u001b[0m did not run successfully.\n",
      "\u001b[31m│\u001b[0m exit code: \u001b[1;36m1\u001b[0m\n",
      "\u001b[31m╰─>\u001b[0m See above for output.\n",
      "\n",
      "\u001b[1;35mnote\u001b[0m: This error originates from a subprocess, and is likely not a problem with pip.\n",
      "\u001b[?25hNote: you may need to restart the kernel to use updated packages.\n"
     ]
    }
   ],
   "source": [
    "!pip install netCDF4 "
   ]
  },
  {
   "cell_type": "code",
   "execution_count": 7,
   "id": "6d7508b0-427c-4fd3-9502-bd281ea2fd9e",
   "metadata": {
    "tags": []
   },
   "outputs": [
    {
     "ename": "ModuleNotFoundError",
     "evalue": "No module named 'netCDF4'",
     "output_type": "error",
     "traceback": [
      "\u001b[0;31m---------------------------------------------------------------------------\u001b[0m",
      "\u001b[0;31mModuleNotFoundError\u001b[0m                       Traceback (most recent call last)",
      "Cell \u001b[0;32mIn[7], line 3\u001b[0m\n\u001b[1;32m      1\u001b[0m \u001b[38;5;28;01mimport\u001b[39;00m \u001b[38;5;21;01mos\u001b[39;00m\u001b[38;5;241m,\u001b[39m \u001b[38;5;21;01msys\u001b[39;00m\n\u001b[1;32m      2\u001b[0m \u001b[38;5;28;01mimport\u001b[39;00m \u001b[38;5;21;01mpandas\u001b[39;00m \u001b[38;5;28;01mas\u001b[39;00m \u001b[38;5;21;01mpd\u001b[39;00m\n\u001b[0;32m----> 3\u001b[0m \u001b[38;5;28;01mimport\u001b[39;00m \u001b[38;5;21;01mnetCDF4\u001b[39;00m \u001b[38;5;28;01mas\u001b[39;00m \u001b[38;5;21;01mnc\u001b[39;00m\n",
      "\u001b[0;31mModuleNotFoundError\u001b[0m: No module named 'netCDF4'"
     ]
    }
   ],
   "source": [
    "import os, sys\n",
    "import pandas as pd\n",
    "import netCDF4 as nc"
   ]
  },
  {
   "cell_type": "code",
   "execution_count": null,
   "id": "d875a0a8-2bcc-418a-ab41-a7d661f1f1e4",
   "metadata": {},
   "outputs": [],
   "source": [
    "import boto3\n",
    "from botocore.exceptions import NoCredentialsError\n",
    "\n",
    "# set up s3 location\n",
    "s3 = boto3.client('s3', region_name='us-east-1')  # Replace 'us-west-2' with your AWS region"
   ]
  },
  {
   "cell_type": "code",
   "execution_count": null,
   "id": "055b7a31-d234-4c00-a233-b69f593b9d48",
   "metadata": {},
   "outputs": [],
   "source": [
    "test_uri = 's3://pepper-dataset/crop_data/crop_IOWA/Iowa_corn_2019.csv'\n",
    "df = pd.read_csv(test_uri)\n",
    "print(df.shape)"
   ]
  },
  {
   "cell_type": "code",
   "execution_count": 9,
   "id": "326570ae-7163-43f6-9b34-43c7effae3a6",
   "metadata": {
    "tags": []
   },
   "outputs": [
    {
     "ename": "NameError",
     "evalue": "name 'nc' is not defined",
     "output_type": "error",
     "traceback": [
      "\u001b[0;31m---------------------------------------------------------------------------\u001b[0m",
      "\u001b[0;31mNameError\u001b[0m                                 Traceback (most recent call last)",
      "Cell \u001b[0;32mIn[9], line 1\u001b[0m\n\u001b[0;32m----> 1\u001b[0m \u001b[38;5;28;01mwith\u001b[39;00m \u001b[43mnc\u001b[49m\u001b[38;5;241m.\u001b[39mDataset(\u001b[38;5;124m'\u001b[39m\u001b[38;5;124ms3://pepper-dataset/era5-unzipped/2020/2020-06_part1.nc\u001b[39m\u001b[38;5;124m'\u001b[39m, \u001b[38;5;124m'\u001b[39m\u001b[38;5;124mr\u001b[39m\u001b[38;5;124m'\u001b[39m) \u001b[38;5;28;01mas\u001b[39;00m ds:\n\u001b[1;32m      2\u001b[0m     \u001b[38;5;28mprint\u001b[39m(ds\u001b[38;5;241m.\u001b[39mvariables\u001b[38;5;241m.\u001b[39mkeys())\n",
      "\u001b[0;31mNameError\u001b[0m: name 'nc' is not defined"
     ]
    }
   ],
   "source": [
    "with nc.Dataset('s3://pepper-dataset/era5-unzipped/2020/2020-06_part1.nc', 'r') as ds:\n",
    "    print(ds.variables.keys())"
   ]
  }
 ],
 "metadata": {
  "kernelspec": {
   "display_name": "conda_tensorflow2_p310",
   "language": "python",
   "name": "conda_tensorflow2_p310"
  },
  "language_info": {
   "codemirror_mode": {
    "name": "ipython",
    "version": 3
   },
   "file_extension": ".py",
   "mimetype": "text/x-python",
   "name": "python",
   "nbconvert_exporter": "python",
   "pygments_lexer": "ipython3",
   "version": "3.10.14"
  }
 },
 "nbformat": 4,
 "nbformat_minor": 5
}
