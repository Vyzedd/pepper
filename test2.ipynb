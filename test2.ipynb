{
 "cells": [
  {
   "cell_type": "markdown",
   "id": "4a6bb666-0c74-47e9-b268-e88af9e4ff6c",
   "metadata": {
    "tags": []
   },
   "source": [
    "### This is temp used for uploading files from instance to s3 bucket.Files on the instance will be removed by running this script."
   ]
  },
  {
   "cell_type": "code",
   "execution_count": 6,
   "id": "cc19e0ec-0c53-442c-b764-211a711f7a57",
   "metadata": {
    "tags": []
   },
   "outputs": [],
   "source": [
    "import boto3\n",
    "import os\n",
    "\n",
    "s3 = boto3.client('s3')"
   ]
  },
  {
   "cell_type": "code",
   "execution_count": 7,
   "id": "d860e722-25b4-46f6-b0e2-a81dab6b2dea",
   "metadata": {
    "tags": []
   },
   "outputs": [],
   "source": [
    "local_directory = '/home/ec2-user/SageMaker/pepper/county_env3/'\n",
    "bucket_name = 'pepper-dataset'\n",
    "s3_prefix = 'county-env-data/county_env_2_IL_AK_MN/processed_with_all_features/'"
   ]
  },
  {
   "cell_type": "code",
   "execution_count": 8,
   "id": "85eb3113-8119-40b2-a4b6-80499a39c8cc",
   "metadata": {
    "tags": []
   },
   "outputs": [],
   "source": [
    "def upload_directory_to_s3_remove(local_directory, bucket_name, s3_prefix):\n",
    "    total_files = 0\n",
    "    for root, dirs, files in os.walk(local_directory):\n",
    "        total_files += len(files)\n",
    "    \n",
    "    files_left = total_files\n",
    "    files_uploaded = 0\n",
    "    \n",
    "    for root, dirs, files in os.walk(local_directory):\n",
    "        for file in files:\n",
    "            local_path = os.path.join(root, file)\n",
    "            relative_path = os.path.relpath(local_path, local_directory)\n",
    "            s3_path = os.path.join(s3_prefix, relative_path).replace(\"\\\\\", \"/\")\n",
    "            s3.upload_file(local_path, bucket_name, s3_path)\n",
    "            files_uploaded += 1\n",
    "            \n",
    "            os.remove(local_path)\n",
    "            files_left -= 1\n",
    "            \n",
    "            # Print progress\n",
    "            print(f\"Uploaded {files_uploaded} files. {files_left} files remaining.\")"
   ]
  },
  {
   "cell_type": "code",
   "execution_count": 9,
   "id": "f8161edf-368e-4944-98fa-9272e35df438",
   "metadata": {
    "tags": []
   },
   "outputs": [],
   "source": [
    "upload_directory_to_s3_remove(local_directory, bucket_name, s3_prefix)"
   ]
  },
  {
   "cell_type": "markdown",
   "id": "f92afccb-26bc-478f-87a8-923e0040a148",
   "metadata": {},
   "source": []
  }
 ],
 "metadata": {
  "kernelspec": {
   "display_name": "conda_tensorflow2_p310",
   "language": "python",
   "name": "conda_tensorflow2_p310"
  },
  "language_info": {
   "codemirror_mode": {
    "name": "ipython",
    "version": 3
   },
   "file_extension": ".py",
   "mimetype": "text/x-python",
   "name": "python",
   "nbconvert_exporter": "python",
   "pygments_lexer": "ipython3",
   "version": "3.10.14"
  }
 },
 "nbformat": 4,
 "nbformat_minor": 5
}
